{
 "cells": [
  {
   "cell_type": "code",
   "execution_count": null,
   "metadata": {
    "ExecuteTime": {
     "end_time": "2020-04-26T02:48:26.962526Z",
     "start_time": "2020-04-26T02:48:26.953546Z"
    }
   },
   "outputs": [],
   "source": [
    "import pandas as pd\n",
    "import seaborn as sns\n",
    "import numpy as np\n",
    "import matplotlib.pyplot as plt\n",
    "import re\n",
    "import emoji\n",
    "from collections import Counter\n",
    "import matplotlib.dates as mdates"
   ]
  },
  {
   "cell_type": "code",
   "execution_count": null,
   "metadata": {
    "ExecuteTime": {
     "end_time": "2020-04-22T00:18:17.672397Z",
     "start_time": "2020-04-22T00:18:17.640483Z"
    }
   },
   "outputs": [],
   "source": [
    "sns.set(rc={'figure.figsize':(11, 4)})"
   ]
  },
  {
   "cell_type": "code",
   "execution_count": null,
   "metadata": {
    "ExecuteTime": {
     "end_time": "2020-04-22T01:13:01.461349Z",
     "start_time": "2020-04-22T01:13:01.221990Z"
    }
   },
   "outputs": [],
   "source": [
    "chat_file_path = r\"PATH\"\n",
    "gf_df = pd.read_csv(chat_file_path)\n",
    "gf_df.head()"
   ]
  },
  {
   "cell_type": "code",
   "execution_count": null,
   "metadata": {
    "ExecuteTime": {
     "end_time": "2020-04-22T01:13:04.215115Z",
     "start_time": "2020-04-22T01:13:04.074293Z"
    }
   },
   "outputs": [],
   "source": [
    "gf_df.rename(columns={\n",
    "    'Date2':'Date',\n",
    "    'UserName':'sender',\n",
    "    'MessageBody':'Message'\n",
    "},inplace=True)\n",
    "gf_df.columns = [col.lower() for col in gf_df]\n",
    "gf_df['datetime'] = gf_df['date'] + ' ' + gf_df['time']\n",
    "gf_df['datetime'] = pd.to_datetime(gf_df['datetime'])\n",
    "gf_df.set_index('datetime',inplace=True)\n",
    "gf_df['mediatype'] = gf_df['mediatype'].astype('category')\n",
    "\n",
    "gf_df.drop(['medialink','quotedmessage','quotedmessagedate','quotedmessagetime','date','time'],axis = 1, inplace=True)\n",
    "\n",
    "media_dict = {\"image\" : \"Image\",\"GIF\":\"GIF\",\"document\":\"Document\",\"video\":\"Video\",\n",
    "              \"recorded audio\":\"Audio\",\"sticker\":\"Sticker\"}\n",
    "gf_df['mediatype'] = gf_df['mediatype'].map(media_dict)"
   ]
  },
  {
   "cell_type": "code",
   "execution_count": null,
   "metadata": {
    "ExecuteTime": {
     "end_time": "2020-03-16T03:53:18.990530Z",
     "start_time": "2020-03-16T03:53:18.802033Z"
    }
   },
   "outputs": [],
   "source": [
    "gf_df.describe()\n",
    "gf_df.info()\n",
    "gf_df.head()"
   ]
  },
  {
   "cell_type": "code",
   "execution_count": null,
   "metadata": {
    "ExecuteTime": {
     "end_time": "2020-04-22T01:17:05.479441Z",
     "start_time": "2020-04-22T01:17:05.033453Z"
    },
    "scrolled": true
   },
   "outputs": [],
   "source": [
    "# bf_deleted = gf_df['message'].value_counts()['You deleted this message']\n",
    "# gf_deleted = gf_df['message'].value_counts()['This message was deleted']\n",
    "# print(f'bf deleted {bf_deleted} messages, while gf deleted {gf_deleted}')\n",
    "message_counts = gf_df.groupby(['sender']).count()[['message']]\n",
    "print(message_counts)\n",
    "msg_count_plot = sns.catplot( x = 'sender', data = gf_df, kind = 'count')\n",
    "msg_count_plot.fig.suptitle('Messages')"
   ]
  },
  {
   "cell_type": "code",
   "execution_count": null,
   "metadata": {
    "ExecuteTime": {
     "end_time": "2020-03-16T03:53:20.304016Z",
     "start_time": "2020-03-16T03:53:19.401430Z"
    }
   },
   "outputs": [],
   "source": [
    "\n",
    "mediatype_by_from = gf_df.groupby(['mediatype','sender']).size().unstack().sort_values(\"bf\",ascending = False)\n",
    "print(mediatype_by_from)\n",
    "media_order = list(mediatype_by_from.index)\n",
    "\n",
    "fig, (bf_ax,gf_ax) = plt.subplots(ncols=2,sharey=True)\n",
    "fig.tight_layout(pad = 5.0)\n",
    "fig.suptitle(\"Total Media Sent\")\n",
    "\n",
    "sns.barplot(y = 'mediatype',x = 'mediatype', ax = bf_ax,data = gf_df[(gf_df.sender == 'bf')], orient = 'h',estimator = len,order = media_order)\n",
    "sns.barplot(y = 'mediatype',x = 'mediatype', ax = gf_ax,data = gf_df[(gf_df.sender == 'gf')], orient = 'h',estimator = len, order = media_order)\n",
    "bf_ax.invert_xaxis()\n",
    "bf_ax.yaxis.tick_right()\n",
    "\n",
    "gf_ax.set_title(\"gf\")\n",
    "bf_ax.set_title(\"bf\")\n",
    "for ax in (bf_ax,gf_ax):\n",
    "    ax.set(xlabel=\"\",ylabel=\"\")\n"
   ]
  },
  {
   "cell_type": "code",
   "execution_count": null,
   "metadata": {
    "ExecuteTime": {
     "end_time": "2020-04-25T22:51:02.442817Z",
     "start_time": "2020-04-25T22:51:02.226343Z"
    }
   },
   "outputs": [],
   "source": [
    "gf_df['letter_count']=gf_df['message'].apply(lambda s : len(s))\n",
    "gf_df['word_count']=gf_df['message'].apply(lambda s : len(s.split(' ')))\n",
    "\n",
    "sum_letters = gf_df.groupby('sender')['letter_count'].sum()\n",
    "sum_words = gf_df.groupby('sender')['word_count'].sum()\n",
    "print(sum_words)\n",
    "print(sum_letters)\n",
    "\n",
    "mean_length = gf_df.groupby('sender')['letter_count'].mean()\n",
    "mean_words = gf_df.groupby('sender')['word_count'].mean()\n",
    "\n",
    "print(mean_length)\n",
    "print(mean_words)"
   ]
  },
  {
   "cell_type": "code",
   "execution_count": null,
   "metadata": {
    "ExecuteTime": {
     "end_time": "2020-04-25T23:01:35.949597Z",
     "start_time": "2020-04-25T23:01:35.442997Z"
    }
   },
   "outputs": [],
   "source": [
    "words_in_message = gf_df['word_count'].value_counts()\n",
    "top_20_word_counts = words_in_message.head(20)\n",
    "top_20_word_counts.plot.bar()\n",
    "plt.xlabel('Word Count')\n",
    "plt.ylabel('Frequency')\n",
    "plt.title('Number of Words per Message')"
   ]
  },
  {
   "cell_type": "code",
   "execution_count": null,
   "metadata": {
    "ExecuteTime": {
     "end_time": "2020-04-25T23:09:58.741985Z",
     "start_time": "2020-04-25T23:09:58.151563Z"
    }
   },
   "outputs": [],
   "source": [
    "gf_df['date'] = gf_df.index.date\n",
    "gf_df['date'].value_counts().head(10).plot.barh()\n",
    "plt.xlabel('Message Count')\n",
    "plt.ylabel('Dates')\n",
    "plt.title('Top 10 Messaging Days')"
   ]
  },
  {
   "cell_type": "code",
   "execution_count": null,
   "metadata": {
    "ExecuteTime": {
     "end_time": "2020-04-26T02:07:08.947865Z",
     "start_time": "2020-04-26T02:07:08.226803Z"
    }
   },
   "outputs": [],
   "source": [
    "gf_df['hour'] = gf_df.index.hour\n",
    "busy_hours = gf_df['hour'].value_counts()\n",
    "\n",
    "busy_hours.sort_index(inplace=True)\n",
    "busy_hours.plot.bar()\n",
    "plt.xlabel('Message Count')\n",
    "plt.ylabel('Hour')\n",
    "plt.title('Messages by Hour of Day')"
   ]
  },
  {
   "cell_type": "code",
   "execution_count": null,
   "metadata": {
    "ExecuteTime": {
     "end_time": "2020-04-26T01:46:33.232152Z",
     "start_time": "2020-04-26T01:46:32.674623Z"
    }
   },
   "outputs": [],
   "source": [
    "gf_df.head(10)\n",
    "def extract_emojis(series):\n",
    "    emojis=[]\n",
    "    for string in series:\n",
    "        my_str = str(string)\n",
    "        for each in my_str:\n",
    "            if each in emoji.UNICODE_EMOJI:\n",
    "                emojis.append(each)\n",
    "    return emojis\n",
    "is_gf = gf_df['sender'] == \"gf\"\n",
    "is_bf = gf_df['sender'] == \"bf\"\n",
    "gf_messages = gf_df[is_gf]\n",
    "bf_messages = gf_df[is_bf]\n",
    "bfmojis = extract_emojis(bf_messages['message'])\n",
    "gfmojis = extract_emojis(gf_messages['message'])\n",
    "\n",
    "\n",
    "bf_emoji_df = pd.DataFrame(Counter(bfmojis).items())\n",
    "gf_emoji_df = pd.DataFrame(Counter(gfmojis).items())\n",
    "emoji_df = pd.merge(bf_emoji_df,gf_emoji_df,on=0)\n",
    "emoji_df.columns = ['Emoji','bf','gf']\n",
    "emoji_df.sort_values(by='gf',inplace=True,ascending=False)\n",
    "print(emoji_df.head(10))\n",
    "bf_sum = emoji_df['bf'].sum()\n",
    "gf_sum = emoji_df['gf'].sum()\n",
    "perc_Diff = (bf_sum-gf_sum)/(gf_sum)\n",
    "print(bf_sum,gf_sum,perc_Diff)\n"
   ]
  },
  {
   "cell_type": "code",
   "execution_count": null,
   "metadata": {
    "ExecuteTime": {
     "end_time": "2020-04-19T23:30:57.929738Z",
     "start_time": "2020-04-19T23:30:57.892838Z"
    }
   },
   "outputs": [],
   "source": [
    "call_log_file = r\"PATH\"\n",
    "\n",
    "log_file = open(call_log_file,\"r\")\n",
    "call_log_file_string = log_file.read()\n",
    "#call_log_file_string = call_log_file_string.replace(r\"PATH\",\"\")\n",
    "call_dict = eval(call_log_file_string)"
   ]
  },
  {
   "cell_type": "code",
   "execution_count": null,
   "metadata": {
    "ExecuteTime": {
     "end_time": "2020-04-19T23:31:00.983640Z",
     "start_time": "2020-04-19T23:31:00.573732Z"
    },
    "scrolled": true
   },
   "outputs": [],
   "source": [
    "for k,v in call_dict.items():\n",
    "    print(k)\n",
    "    print(v)\n",
    "    print(\"#################################\\n#################################\")"
   ]
  },
  {
   "cell_type": "code",
   "execution_count": null,
   "metadata": {
    "ExecuteTime": {
     "end_time": "2020-04-19T23:51:17.132371Z",
     "start_time": "2020-04-19T23:51:15.973035Z"
    }
   },
   "outputs": [],
   "source": [
    " for call,call_string in call_dict.items():\n",
    "    \n",
    "    # Remove random characters that start call lines\n",
    "    call_string = re.sub(r'.+(O|o)utgoing','Outgoing',call_string)\n",
    "    call_string = re.sub(r'.+(I|i)ncoming','Incoming',call_string)\n",
    "    call_string = re.sub(r'.+(M|m)issed','Missed',call_string)\n",
    "    # Remove the random characters that begin some calls before \"Call info\"\n",
    "    call_string = re.sub(r'(.|\\n)+\\nCall info','Call Info',call_string)\n",
    "    # Fix Odd names\n",
    "    name_dict = {FRIEND:FULL FRIEND NAME}\n",
    "    for name,replacement in name_dict.items():\n",
    "        call_string = re.sub(f'(\\n|.+){name}.+\\n',f'\\n{replacement}\\n',call_string)\n",
    "        call_dict[call] = call_string\n",
    "  \n",
    "    # Correct Multiline Incomin error\n",
    "    call_string = re.sub(r'\\n(I|i)ncomin\\n.+\\n','\\nIncoming ',call_string)\n",
    "    \n",
    "    # Replace single character line errors\n",
    "    call_string = re.sub(r'\\n(.|om)\\n','\\n',call_string)\n",
    "    \n",
    "    # Remove \\. me line errors\n",
    "    call_string = re.sub(r'\\n\\\\. me\\n','\\n',call_string)\n",
    "    \n",
    "    # Remove all extra new lines from each scraped call\n",
    "    call_string = re.sub(r'\\n\\s*\\n','\\n',call_string)\n",
    "    \n",
    "    print(call)\n",
    "    print(call_string)\n",
    "    print(\"#################################\\n#################################\")"
   ]
  },
  {
   "cell_type": "code",
   "execution_count": null,
   "metadata": {
    "ExecuteTime": {
     "end_time": "2020-04-20T00:06:41.077509Z",
     "start_time": "2020-04-20T00:06:40.989791Z"
    }
   },
   "outputs": [],
   "source": [
    "for call,call_string in call_dict.items():\n",
    "    call_string = re.sub(r'\\n\\s*\\n','\\n',call_string)\n",
    "    call_string = str.splitlines(call_string)\n",
    "    call_dict[call] = call_string\n",
    "    \n",
    "\n",
    "call_df = pd.DataFrame.from_dict(call_dict,orient='index')\n",
    "call_df.to_csv(call_csv)  \n"
   ]
  },
  {
   "cell_type": "code",
   "execution_count": null,
   "metadata": {
    "ExecuteTime": {
     "end_time": "2020-04-21T23:44:02.069141Z",
     "start_time": "2020-04-21T23:44:01.740022Z"
    },
    "scrolled": true
   },
   "outputs": [],
   "source": [
    "clean_calls_file = call_csv = r\"PATH\"\n",
    " \n",
    "clean_calls_df = pd.read_csv(clean_calls_file)\n",
    "clean_calls_df['DateTime'] = pd.to_datetime(clean_calls_df['DateTime'])\n",
    "clean_calls_df = clean_calls_df.set_index('DateTime')\n",
    "clean_calls_df['Year'] = clean_calls_df.index.year\n",
    "clean_calls_df['Month'] = clean_calls_df.index.month\n",
    "clean_calls_df['Time'] = clean_calls_df.index.time\n",
    "\n",
    "\n",
    "clean_calls_df.set_index('DateTime',inplace=True)\n",
    "clean_calls_df.head(2)"
   ]
  },
  {
   "cell_type": "code",
   "execution_count": null,
   "metadata": {
    "ExecuteTime": {
     "end_time": "2020-04-21T23:46:32.184884Z",
     "start_time": "2020-04-21T23:46:32.171965Z"
    }
   },
   "outputs": [],
   "source": [
    "clean_calls_df['Time'] = clean_calls_df.index.time\n",
    "clean_calls_df.sample(5,random_state=0)\n",
    "clean_calls_df.dtypes\n"
   ]
  },
  {
   "cell_type": "code",
   "execution_count": null,
   "metadata": {
    "ExecuteTime": {
     "end_time": "2020-04-22T00:43:45.080396Z",
     "start_time": "2020-04-22T00:43:45.043527Z"
    }
   },
   "outputs": [],
   "source": [
    "clean_calls_df.replace(0, np.nan, inplace=True)\n",
    "# clean_calls_df['Hours'==0.0] = np.nan\n",
    "# clean_calls_df['Minutes'==0.0] = np.nan\n",
    "# clean_calls_df['Seconds'==0.0] = np.nan\n",
    "clean_calls_df.head()"
   ]
  },
  {
   "cell_type": "code",
   "execution_count": null,
   "metadata": {
    "ExecuteTime": {
     "end_time": "2020-04-22T00:53:39.612502Z",
     "start_time": "2020-04-22T00:53:39.532513Z"
    }
   },
   "outputs": [],
   "source": [
    "is_gf = clean_calls_df['Caller'] == \"gf\"\n",
    "gfs_calls = clean_calls_df[is_gf]\n",
    "\n",
    "data_columns = ['Hours','Minutes','Seconds','CallBytes']\n",
    "\n",
    "gf_daily_sum = gfs_calls[data_columns].resample('D').sum()\n",
    "gf_monthly_sum = gfs_calls[data_columns].resample('M').sum()\n",
    "gf_weekly_sum = gfs_calls[data_columns].resample('W').sum()\n",
    "gf_monthly_mean = gfs_calls[data_columns].resample('M').mean()\n",
    "gf_weekly_mean = gfs_calls[data_columns].resample('W').mean()"
   ]
  },
  {
   "cell_type": "code",
   "execution_count": null,
   "metadata": {
    "ExecuteTime": {
     "end_time": "2020-04-22T00:53:43.145678Z",
     "start_time": "2020-04-22T00:53:43.133709Z"
    }
   },
   "outputs": [],
   "source": [
    "print(gfs_calls['Minutes'].mean())\n",
    "total_hours = gfs_calls['Hours'].sum()\n",
    "total_days = total_hours / 24\n",
    "total_minutes = gfs_calls['Minutes'].sum()\n",
    "total_seconds = gfs_calls['Seconds'].sum()\n",
    "daily_average = gf_daily_sum['Minutes'].mean()\n",
    "print(total_days,total_hours,total_minutes,total_seconds,daily_average,sep=\"\\n\")"
   ]
  },
  {
   "cell_type": "code",
   "execution_count": null,
   "metadata": {
    "ExecuteTime": {
     "end_time": "2020-04-22T00:44:18.380362Z",
     "start_time": "2020-04-22T00:44:17.866740Z"
    }
   },
   "outputs": [],
   "source": [
    "start,end = '2018','2020'\n",
    "fig,ax = plt.subplots()\n",
    "ax.plot(gf_monthly_sum.loc[start:end, 'Hours'],\n",
    "    marker='.', linestyle='-', linewidth=0.5, label='Total Monthly Call Length')\n",
    "ax.set_ylabel('Call Duration in Hours')\n",
    "ax.legend();"
   ]
  },
  {
   "cell_type": "code",
   "execution_count": null,
   "metadata": {
    "ExecuteTime": {
     "end_time": "2020-04-22T00:55:28.345687Z",
     "start_time": "2020-04-22T00:55:27.823118Z"
    }
   },
   "outputs": [],
   "source": [
    "start,end = '2018','2020'\n",
    "fig,ax = plt.subplots()\n",
    "ax.plot(gf_monthly_mean.loc[start:end, 'Minutes'],\n",
    "    marker='.', markersize=8, linestyle='-', label='Average Call Length in Minutes')\n",
    "ax.set_ylabel('Call Duration in Minutes')\n",
    "ax.legend();"
   ]
  },
  {
   "cell_type": "code",
   "execution_count": null,
   "metadata": {
    "ExecuteTime": {
     "end_time": "2020-04-26T02:12:01.526734Z",
     "start_time": "2020-04-26T02:12:00.859538Z"
    }
   },
   "outputs": [],
   "source": [
    "clean_calls_df['hour'] = clean_calls_df.index.hour\n",
    "busy_hours = gfs_calls['hour'].value_counts()\n",
    "\n",
    "busy_hours.sort_index(inplace=True)\n",
    "busy_hours.plot.bar()\n",
    "plt.xlabel('# of Calls')\n",
    "plt.ylabel('Hour')\n",
    "plt.title('# of Calls by Hour of Day')"
   ]
  },
  {
   "cell_type": "code",
   "execution_count": null,
   "metadata": {
    "ExecuteTime": {
     "end_time": "2020-04-26T03:20:05.779935Z",
     "start_time": "2020-04-26T03:20:05.221462Z"
    }
   },
   "outputs": [],
   "source": [
    "clean_calls_df['Date'] = pd.to_datetime(clean_calls_df['Date'])\n",
    "month_group = gfs_calls.groupby(pd.Grouper(freq='M'))\n",
    "\n",
    "busy_months = month_group['Date'].count()\n",
    "\n",
    "\n",
    "#month_group.sort_index(inplace=True)\n",
    "\n",
    "fig,ax = plt.subplots()\n",
    "\n",
    "busy_months.plot.bar()\n",
    "plt.xlabel('Month')\n",
    "plt.ylabel('# of Calls')\n",
    "plt.title('# of Calls by Month')\n",
    "\n",
    "\n",
    "# fig,ax1 = plt.subplots()\n",
    "# plt.barh(month_group)\n",
    "# monthyearFmt = mdates.DateFormatter('%Y %B')\n",
    "# ax1.xaxis.set_major_formatter(monthyearFmt)"
   ]
  },
  {
   "cell_type": "code",
   "execution_count": null,
   "metadata": {
    "ExecuteTime": {
     "end_time": "2020-04-26T02:31:19.424989Z",
     "start_time": "2020-04-26T02:31:19.395686Z"
    }
   },
   "outputs": [],
   "source": []
  }
 ],
 "metadata": {
  "kernelspec": {
   "display_name": "Python 3.7.3 64-bit ('base': conda)",
   "language": "python",
   "name": "python37364bitbaseconda94d970e1f48a45e786a178bb30405341"
  },
  "language_info": {
   "codemirror_mode": {
    "name": "ipython",
    "version": 3
   },
   "file_extension": ".py",
   "mimetype": "text/x-python",
   "name": "python",
   "nbconvert_exporter": "python",
   "pygments_lexer": "ipython3",
   "version": "3.7.6"
  },
  "toc": {
   "base_numbering": 1,
   "nav_menu": {},
   "number_sections": true,
   "sideBar": true,
   "skip_h1_title": false,
   "title_cell": "Table of Contents",
   "title_sidebar": "Contents",
   "toc_cell": false,
   "toc_position": {},
   "toc_section_display": true,
   "toc_window_display": false
  },
  "varInspector": {
   "cols": {
    "lenName": 16,
    "lenType": 16,
    "lenVar": 40
   },
   "kernels_config": {
    "python": {
     "delete_cmd_postfix": "",
     "delete_cmd_prefix": "del ",
     "library": "var_list.py",
     "varRefreshCmd": "print(var_dic_list())"
    },
    "r": {
     "delete_cmd_postfix": ") ",
     "delete_cmd_prefix": "rm(",
     "library": "var_list.r",
     "varRefreshCmd": "cat(var_dic_list()) "
    }
   },
   "types_to_exclude": [
    "module",
    "function",
    "builtin_function_or_method",
    "instance",
    "_Feature"
   ],
   "window_display": false
  }
 },
 "nbformat": 4,
 "nbformat_minor": 4
}